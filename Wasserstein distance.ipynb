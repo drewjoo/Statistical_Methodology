{
 "cells": [
  {
   "cell_type": "markdown",
   "id": "5376aabf",
   "metadata": {},
   "source": [
    "# Wasserstein Distance"
   ]
  },
  {
   "cell_type": "code",
   "execution_count": 1,
   "id": "3ca326dc",
   "metadata": {},
   "outputs": [
    {
     "name": "stdout",
     "output_type": "stream",
     "text": [
      "[10.65  4.6   6.54  8.42  2.72  0.55]\n",
      "[5.96 7.38 9.79 3.89 1.44]\n"
     ]
    }
   ],
   "source": [
    "import numpy as np\n",
    "import matplotlib.pyplot as plt\n",
    "\n",
    "np.random.seed(0)\n",
    "\n",
    "np.set_printoptions(precision=2) # 소수점 2번 째까지 표현\n",
    "\n",
    "x = np.array([0.0, 2.0, 4.0, 6.0, 8.0, 10.0]) + np.random.rand(6)\n",
    "y = np.array([1.0, 3.0, 5.0, 7.0, 9.0]) + np.random.rand(5)\n",
    "\n",
    "np.random.shuffle(x)\n",
    "np.random.shuffle(y)\n",
    "\n",
    "print(x)\n",
    "print(y)"
   ]
  },
  {
   "cell_type": "code",
   "execution_count": 2,
   "id": "78dfefba",
   "metadata": {},
   "outputs": [
    {
     "data": {
      "text/plain": [
       "<matplotlib.legend.Legend at 0x1abef164400>"
      ]
     },
     "execution_count": 2,
     "metadata": {},
     "output_type": "execute_result"
    },
    {
     "data": {
      "image/png": "[encoded data removed]",
      "text/plain": [
       "<Figure size 500x200 with 1 Axes>"
      ]
     },
     "metadata": {},
     "output_type": "display_data"
    }
   ],
   "source": [
    "import seaborn as sns\n",
    "\n",
    "plt.figure(figsize = (5,2))\n",
    "sns.swarmplot(x=x, label = \"x\")\n",
    "sns.swarmplot(x=y, label = \"y\")\n",
    "plt.legend()"
   ]
  },
  {
   "cell_type": "code",
   "execution_count": 3,
   "id": "87062e32",
   "metadata": {},
   "outputs": [
    {
     "name": "stdout",
     "output_type": "stream",
     "text": [
      "[ 0.55  2.72  4.6   6.54  8.42 10.65]\n",
      "[0.17 0.33 0.5  0.67 0.83 1.  ]\n"
     ]
    }
   ],
   "source": [
    "x_sorted = np.sort(x)\n",
    "cum_x = (np.arange(len(x)) + 1) / len(x)\n",
    "\n",
    "print(x_sorted)\n",
    "print(cum_x)"
   ]
  },
  {
   "cell_type": "code",
   "execution_count": 4,
   "id": "0cec6d74",
   "metadata": {},
   "outputs": [
    {
     "name": "stdout",
     "output_type": "stream",
     "text": [
      "[1.44 3.89 5.96 7.38 9.79]\n",
      "[0.2 0.4 0.6 0.8 1. ]\n"
     ]
    }
   ],
   "source": [
    "y_sorted = np.sort(y)\n",
    "cum_y = (np.arange(len(y)) + 1) / len(y)\n",
    "\n",
    "print(y_sorted)\n",
    "print(cum_y)"
   ]
  },
  {
   "cell_type": "code",
   "execution_count": 5,
   "id": "5e69d467",
   "metadata": {},
   "outputs": [
    {
     "data": {
      "image/png": "[encoded data removed]",
      "text/plain": [
       "<Figure size 500x500 with 1 Axes>"
      ]
     },
     "metadata": {},
     "output_type": "display_data"
    }
   ],
   "source": [
    "plt.figure(figsize=(5,5))\n",
    "plt.plot(x_sorted, cum_x, 'bo')\n",
    "plt.plot(y_sorted, cum_y, 'rx')\n",
    "plt.grid()\n",
    "plt.xlim(-0.5, 10.9)\n",
    "plt.ylim(-0.03, 1.03)\n",
    "plt.show()"
   ]
  },
  {
   "cell_type": "code",
   "execution_count": 6,
   "id": "61d0f63b",
   "metadata": {},
   "outputs": [
    {
     "name": "stdout",
     "output_type": "stream",
     "text": [
      "[ 0.55  1.44  2.72  3.89  4.6   5.96  6.54  7.38  8.42  9.79 10.65]\n"
     ]
    }
   ],
   "source": [
    "all_values = np.concatenate((x, y))\n",
    "all_values.sort()\n",
    "print(all_values)"
   ]
  },
  {
   "cell_type": "code",
   "execution_count": 7,
   "id": "05116557",
   "metadata": {},
   "outputs": [
    {
     "data": {
      "text/plain": [
       "array([0.89, 1.28, 1.18, 0.71, 1.36, 0.58, 0.84, 1.04, 1.37, 0.85])"
      ]
     },
     "execution_count": 7,
     "metadata": {},
     "output_type": "execute_result"
    }
   ],
   "source": [
    "deltas=np.diff(all_values)\n",
    "deltas"
   ]
  },
  {
   "cell_type": "code",
   "execution_count": 8,
   "id": "76d28680",
   "metadata": {},
   "outputs": [
    {
     "data": {
      "text/plain": [
       "array([ 0.55,  2.72,  4.6 ,  6.54,  8.42, 10.65])"
      ]
     },
     "execution_count": 8,
     "metadata": {},
     "output_type": "execute_result"
    }
   ],
   "source": [
    "# 하지만 이렇게 되면 어떤점이 x에서 왔는지 y에서 왔는지 알 수가 없다.\n",
    "x_sorted"
   ]
  },
  {
   "cell_type": "code",
   "execution_count": 9,
   "id": "da616c16",
   "metadata": {},
   "outputs": [
    {
     "data": {
      "text/plain": [
       "array([1, 1, 2, 2, 3, 3, 4, 4, 5, 5], dtype=int64)"
      ]
     },
     "execution_count": 9,
     "metadata": {},
     "output_type": "execute_result"
    }
   ],
   "source": [
    "# all_values에서 x배열에서 온 데이터를 마주칠 때마다 +1을 해준다.\n",
    "x_cdf_indices = x_sorted.searchsorted(all_values[:-1], 'right')\n",
    "x_cdf_indices"
   ]
  },
  {
   "cell_type": "code",
   "execution_count": 10,
   "id": "b607af8e",
   "metadata": {},
   "outputs": [
    {
     "data": {
      "text/plain": [
       "array([0, 1, 1, 2, 2, 3, 3, 4, 4, 5], dtype=int64)"
      ]
     },
     "execution_count": 10,
     "metadata": {},
     "output_type": "execute_result"
    }
   ],
   "source": [
    "# all_values에서 y배열에서 온 데이터를 마주칠 때마다 +1을 해준다.\n",
    "y_cdf_indices = y_sorted.searchsorted(all_values[:-1], 'right')\n",
    "y_cdf_indices"
   ]
  },
  {
   "cell_type": "code",
   "execution_count": 11,
   "id": "cbd21f25",
   "metadata": {},
   "outputs": [
    {
     "name": "stdout",
     "output_type": "stream",
     "text": [
      "[0.55 1.44 2.72 3.89 4.6  5.96 6.54 7.38 8.42 9.79]\n",
      "[0.17 0.17 0.33 0.33 0.5  0.5  0.67 0.67 0.83 0.83]\n",
      "[0.  0.2 0.2 0.4 0.4 0.6 0.6 0.8 0.8 1. ]\n"
     ]
    }
   ],
   "source": [
    "x_cdf = x_cdf_indices / len(x)\n",
    "y_cdf = y_cdf_indices / len(y)\n",
    "\n",
    "print(all_values[:-1])\n",
    "print(x_cdf)\n",
    "print(y_cdf)"
   ]
  },
  {
   "cell_type": "code",
   "execution_count": 12,
   "id": "5236f17f",
   "metadata": {},
   "outputs": [
    {
     "name": "stdout",
     "output_type": "stream",
     "text": [
      "0.9717676936051363\n"
     ]
    }
   ],
   "source": [
    "#계산한 가로 길이 (deltas)와 CDFs (x_cdf, y_cdf)를 사용해서 -Wasserstein distance를 계산해보면 다음과 같다.\n",
    "p = 1\n",
    "if p == 1:\n",
    "    d = np.sum(np.multiply(np.abs(x_cdf - y_cdf), deltas)) \n",
    "elif p == 2:\n",
    "    d = np.sqrt(np.sum(np.multiply(np.square(x_cdf - y_cdf), deltas)))\n",
    "else: \n",
    "    d = np.power(np.sum(np.multiply(np.power(np.abs(x_cdf - y_cdf), p),\n",
    "                                       deltas)), 1/p)\n",
    "print(d)"
   ]
  },
  {
   "cell_type": "code",
   "execution_count": 13,
   "id": "6194ec0d",
   "metadata": {},
   "outputs": [
    {
     "name": "stdout",
     "output_type": "stream",
     "text": [
      "0.9717676936051363\n"
     ]
    }
   ],
   "source": [
    "from scipy.stats import wasserstein_distance\n",
    "\n",
    "print(wasserstein_distance(x, y))"
   ]
  },
  {
   "cell_type": "code",
   "execution_count": null,
   "id": "b7c2a17a",
   "metadata": {},
   "outputs": [],
   "source": [
    "def _cdf_distance(p, x, y):\n",
    "    \"\"\"\n",
    "    From https://github.com/scipy/scipy/blob/v1.10.1/scipy/stats/_stats_py.py#L9165\n",
    "    \"\"\"\n",
    "    x_sorted = np.sort(x)\n",
    "    y_sorted = np.sort(y)\n",
    "    \n",
    "    all_values = np.concatenate((x, y))\n",
    "    all_values.sort(kind='mergesort')\n",
    "\n",
    "    # Compute the differences between pairs of successive values of u and v.\n",
    "    deltas = np.diff(all_values)\n",
    "\n",
    "    # Get the respective positions of the values of u and v among the values of\n",
    "    # both distributions.\n",
    "    x_cdf_indices = x_sorted.searchsorted(all_values[:-1], 'right')\n",
    "    y_cdf_indices = y_sorted.searchsorted(all_values[:-1], 'right')\n",
    "\n",
    "    # Calculate the CDFs of u and v using their weights, if specified.\n",
    "    x_cdf = x_cdf_indices / x.size\n",
    "    y_cdf = y_cdf_indices / y.size\n",
    "\n",
    "    # Compute the value of the integral based on the CDFs.\n",
    "    # If p = 1 or p = 2, we avoid using np.power, which introduces an overhead\n",
    "    # of about 15%.\n",
    "    if p == 1:\n",
    "        return np.sum(np.multiply(np.abs(x_cdf - y_cdf), deltas))\n",
    "    if p == 2:\n",
    "        return np.sqrt(np.sum(np.multiply(np.square(x_cdf - y_cdf), deltas)))\n",
    "    return np.power(np.sum(np.multiply(np.power(np.abs(x_cdf - y_cdf), p),\n",
    "                                       deltas)), 1/p)"
   ]
  }
 ],
 "metadata": {
  "kernelspec": {
   "display_name": "Python 3 (ipykernel)",
   "language": "python",
   "name": "python3"
  },
  "language_info": {
   "codemirror_mode": {
    "name": "ipython",
    "version": 3
   },
   "file_extension": ".py",
   "mimetype": "text/x-python",
   "name": "python",
   "nbconvert_exporter": "python",
   "pygments_lexer": "ipython3",
   "version": "3.10.9"
  }
 },
 "nbformat": 4,
 "nbformat_minor": 5
}
